{
 "cells": [
  {
   "cell_type": "markdown",
   "id": "e8705e66-dd13-4b2c-844c-c6d05c1cf120",
   "metadata": {},
   "source": [
    "<h1 style=\"text-align: center;\">Control Flows and their Use Cases</h1>\n",
    "<h1 style=\"text-align: center;\">===========</h1>"
   ]
  },
  {
   "cell_type": "markdown",
   "id": "b077e6f0-6bf6-49e4-94f5-b47db58f8f5e",
   "metadata": {},
   "source": [
    "<h1 style=\"text-align: Left;\">Content</h1>"
   ]
  },
  {
   "cell_type": "markdown",
   "id": "3cf23dc7-37ae-480c-b344-279b49a9b1b3",
   "metadata": {},
   "source": [
    "1. break\n",
    "2. pass\n",
    "3. continue\n",
    "4. return\n",
    "5. if, elif, else\n",
    "6. while\n",
    "7. for\n",
    "8. else with for \n",
    "9. else with while\n",
    "10. try, except, finally\n",
    "11. raise\n",
    "12. with\n",
    "13. assert\n",
    "14. yield\n",
    "15. lambda\n",
    "16. non-local\n",
    "17. global"
   ]
  },
  {
   "cell_type": "markdown",
   "id": "1df1950b-6637-4ae7-b9fa-278e308d7e87",
   "metadata": {},
   "source": [
    "======================================================================================"
   ]
  },
  {
   "cell_type": "markdown",
   "id": "ee55504c-0f75-412f-a9e5-d2465cf5572a",
   "metadata": {},
   "source": [
    "Here’s a breakdown of the different control flow statements in Python and return—and how they differ\n",
    "## 1. break:\n",
    "Purpose: It immediately terminates the nearest enclosing loop (for or while loop).\n",
    "Usage: Typically used when a certain condition is met, and there's no need to continue looping.\n",
    "\n",
    "Example:"
   ]
  },
  {
   "cell_type": "code",
   "execution_count": 44,
   "id": "7d47b915-8c6f-4c32-905a-3452120c1977",
   "metadata": {},
   "outputs": [
    {
     "name": "stdout",
     "output_type": "stream",
     "text": [
      "0\n",
      "1\n",
      "2\n"
     ]
    }
   ],
   "source": [
    "for i in range(5):\n",
    "    if i == 3:\n",
    "        break\n",
    "    print(i)"
   ]
  },
  {
   "cell_type": "markdown",
   "id": "7b3ae136-634b-4d38-8b0b-0bddb4183823",
   "metadata": {},
   "source": [
    "The loop stops once i == 3."
   ]
  },
  {
   "cell_type": "markdown",
   "id": "8ba5374d-979d-4770-8d42-6eaacdd428a9",
   "metadata": {},
   "source": [
    "## 2. pass:\n",
    "Purpose: It is a placeholder for future code, doing nothing when executed.\n",
    "\n",
    "Usage: Used when a statement is syntactically required but you don’t want to execute any code at that time.\n",
    "\n",
    "Example:"
   ]
  },
  {
   "cell_type": "code",
   "execution_count": 45,
   "id": "c8268b72-b91b-4146-b5bb-4732c9161cae",
   "metadata": {},
   "outputs": [
    {
     "name": "stdout",
     "output_type": "stream",
     "text": [
      "0\n",
      "1\n",
      "2\n",
      "3\n",
      "4\n"
     ]
    }
   ],
   "source": [
    "for i in range(5):\n",
    "    if i == 3:\n",
    "        pass  # Do nothing when i is 3\n",
    "    print(i)"
   ]
  },
  {
   "cell_type": "markdown",
   "id": "b2619db5-64ff-4502-abd3-c5fd9f713835",
   "metadata": {},
   "source": [
    "## 3. continue:\n",
    "   \n",
    "Purpose: It skips the current iteration of the loop and moves to the next iteration.\n",
    "\n",
    "Usage: Typically used when you want to ignore part of the loop body for certain conditions but continue looping through the rest of the elements.\n",
    "\n",
    "Example:"
   ]
  },
  {
   "cell_type": "code",
   "execution_count": 46,
   "id": "14507926-65ae-4401-8459-156d5ff731fe",
   "metadata": {},
   "outputs": [
    {
     "name": "stdout",
     "output_type": "stream",
     "text": [
      "0\n",
      "1\n",
      "2\n",
      "4\n"
     ]
    }
   ],
   "source": [
    "for i in range(5):\n",
    "    if i == 3:\n",
    "        continue  # Skip printing for i == 3\n",
    "    print(i)"
   ]
  },
  {
   "cell_type": "markdown",
   "id": "9c9926c7-2add-47e5-bbba-4f110d673208",
   "metadata": {},
   "source": [
    "## 4. return (with no return value):\n",
    "Purpose: It exits a function, returning control to the caller. It can either return a value or return None if no value is specified.\n",
    "\n",
    "Usage: Used to terminate the execution of a function and optionally pass a value back to the caller.\n",
    "\n",
    "Example:"
   ]
  },
  {
   "cell_type": "code",
   "execution_count": 47,
   "id": "4b1c4a31-f91e-4c4e-85e1-10fdc56f9c32",
   "metadata": {},
   "outputs": [
    {
     "name": "stdout",
     "output_type": "stream",
     "text": [
      "Hello\n"
     ]
    }
   ],
   "source": [
    "def my_function():\n",
    "    print(\"Hello\")\n",
    "    return  # Exits the function here\n",
    "    print(\"World\")  # This won't be executed\n",
    "\n",
    "my_function()\n",
    "# Output: \"Hello\""
   ]
  },
  {
   "cell_type": "markdown",
   "id": "f8b26d7a-4080-40d5-a573-2b2105cf61d6",
   "metadata": {},
   "source": [
    "## 5. if, elif, else:\n",
    "Purpose: Used for conditional execution. They allow you to execute blocks of code based on whether conditions are true or false.\n",
    "Uage:"
   ]
  },
  {
   "cell_type": "code",
   "execution_count": 48,
   "id": "1f52c89f-ca17-480d-9bdd-90e5deeb181d",
   "metadata": {},
   "outputs": [
    {
     "name": "stdout",
     "output_type": "stream",
     "text": [
      "Equal to 10\n"
     ]
    }
   ],
   "source": [
    "x = 10\n",
    "if x > 10:\n",
    "    print(\"Greater than 10\")\n",
    "elif x == 10:\n",
    "    print(\"Equal to 10\")\n",
    "else:\n",
    "    print(\"Less than 10\")\n"
   ]
  },
  {
   "cell_type": "markdown",
   "id": "2a46ba3d-a58d-43c7-8af0-d7306e3fb0d9",
   "metadata": {},
   "source": [
    "## 6. while:\n",
    "Purpose: Repeats a block of code as long as a condition is true.\n",
    "\n",
    "Usage:"
   ]
  },
  {
   "cell_type": "code",
   "execution_count": 50,
   "id": "3d280b45-540d-476f-822a-1a6803719318",
   "metadata": {},
   "outputs": [
    {
     "name": "stdout",
     "output_type": "stream",
     "text": [
      "0\n",
      "1\n",
      "2\n",
      "3\n",
      "4\n"
     ]
    }
   ],
   "source": [
    "x = 0\n",
    "while x < 5:\n",
    "    print(x)\n",
    "    x += 1"
   ]
  },
  {
   "cell_type": "markdown",
   "id": "57d0debb-6b08-4fbc-ad9f-86668e382529",
   "metadata": {},
   "source": [
    "## 7. for:\n",
    "Purpose: Used to iterate over a sequence (like a list, tuple, string, or range).\n",
    "\n",
    "Usage:"
   ]
  },
  {
   "cell_type": "code",
   "execution_count": 52,
   "id": "09ec59b8-88fb-4502-84a7-7b20aae19fe9",
   "metadata": {},
   "outputs": [
    {
     "name": "stdout",
     "output_type": "stream",
     "text": [
      "0\n",
      "1\n",
      "2\n",
      "3\n",
      "4\n"
     ]
    }
   ],
   "source": [
    "for i in range(5):\n",
    "    print(i)"
   ]
  },
  {
   "cell_type": "markdown",
   "id": "722b8dd9-e5a9-47bb-b2f9-6a89c16f2983",
   "metadata": {},
   "source": [
    "## 8. else with for:\n",
    "Purpose: The else block in loops is executed when the loop terminates normally (i.e., not by a break statement).\n",
    "\n",
    "Usage:"
   ]
  },
  {
   "cell_type": "code",
   "execution_count": 56,
   "id": "5990714f-cadc-4cdf-a133-4ad5b962c410",
   "metadata": {},
   "outputs": [],
   "source": [
    "for i in range(5):\n",
    "    if i == 3:\n",
    "        break\n",
    "else:\n",
    "    print(\"Loop completed successfully\")\n",
    "# Output: (else block is not executed because of break)"
   ]
  },
  {
   "cell_type": "markdown",
   "id": "0a05b25b-4839-457f-891a-c65bccb4a895",
   "metadata": {},
   "source": [
    "## 9. else with while"
   ]
  },
  {
   "cell_type": "code",
   "execution_count": 57,
   "id": "258e11bd-bc41-4875-8db5-f08c5e55c70a",
   "metadata": {},
   "outputs": [
    {
     "name": "stdout",
     "output_type": "stream",
     "text": [
      "Countdown: 3\n",
      "Countdown: 2\n",
      "Countdown: 1\n",
      "The loop has completed normally.\n"
     ]
    }
   ],
   "source": [
    "n = 3\n",
    "\n",
    "while n > 0:\n",
    "    print(f\"Countdown: {n}\")\n",
    "    n -= 1\n",
    "else:\n",
    "    print(\"The loop has completed normally.\")"
   ]
  },
  {
   "cell_type": "markdown",
   "id": "eeba75d6-e42b-4065-9540-85c7bff660c1",
   "metadata": {},
   "source": [
    "Loop completed successfully\n",
    "The else block is useful when you need to check whether the loop ended without hitting a break."
   ]
  },
  {
   "cell_type": "markdown",
   "id": "aa5dd41b-4a33-4b9c-a5b7-82eae13688ba",
   "metadata": {},
   "source": [
    "## 10. try, except, finally (Exception Handling):\n",
    "Purpose: Used for handling exceptions (errors) that may occur during the execution of a program. The finally block is always executed, whether an exception occurred or not.\n",
    "Usage:"
   ]
  },
  {
   "cell_type": "code",
   "execution_count": 24,
   "id": "98735f40-b5b2-4f27-bf4a-51d5e16b1811",
   "metadata": {},
   "outputs": [
    {
     "name": "stdout",
     "output_type": "stream",
     "text": [
      "Cannot divide by zero!\n",
      "This will always be executed.\n"
     ]
    }
   ],
   "source": [
    "try:\n",
    "    x = 1 / 0\n",
    "except ZeroDivisionError:\n",
    "    print(\"Cannot divide by zero!\")\n",
    "finally:\n",
    "    print(\"This will always be executed.\")"
   ]
  },
  {
   "cell_type": "markdown",
   "id": "8eab9742-8a73-41d6-8d16-0e71121736eb",
   "metadata": {},
   "source": [
    "## 11. raise:\n",
    "Purpose: Used to manually raise an exception.\n",
    "\n",
    "Usage:"
   ]
  },
  {
   "cell_type": "code",
   "execution_count": 30,
   "id": "c24200db-629f-4bad-8cee-1a3b0e0bafb7",
   "metadata": {},
   "outputs": [],
   "source": [
    "x = 1\n",
    "if x < 0:\n",
    "    raise ValueError(\"x must be non-negative\")"
   ]
  },
  {
   "cell_type": "markdown",
   "id": "9af1b1fd-6ef1-4f2d-820f-c560ba4a32fb",
   "metadata": {},
   "source": [
    "## 12. with (Context Manager):\n",
    "Purpose: Used for resource management (like opening files). It automatically manages resources (e.g., opening and closing files) in a clean way.\n",
    "\n",
    "Usage:"
   ]
  },
  {
   "cell_type": "code",
   "execution_count": null,
   "id": "798a5d71-971c-442d-95b0-9722b732d347",
   "metadata": {},
   "outputs": [],
   "source": [
    "with open('file.txt', 'r') as file:\n",
    "    content = file.read()"
   ]
  },
  {
   "cell_type": "markdown",
   "id": "1410c743-f052-4f51-a25c-8a283fa512ff",
   "metadata": {},
   "source": [
    "The file is automatically closed after exiting the 'with' block."
   ]
  },
  {
   "cell_type": "markdown",
   "id": "3b4e707d-5fe7-4139-8a1b-510dec74f3b0",
   "metadata": {},
   "source": [
    "## 13. assert:\n",
    "Purpose: Used for debugging purposes. It tests if a condition is true, and if not, it raises an AssertionError.\n",
    "\n",
    "Usage:"
   ]
  },
  {
   "cell_type": "code",
   "execution_count": 34,
   "id": "83162b20-915f-4b75-b7cf-eb7114eb24ae",
   "metadata": {},
   "outputs": [],
   "source": [
    "x = 10\n",
    "assert x == 10  # No error\n",
    "assert x == 5, \"x should be 10\"  # Raises AssertionError with message \"x should be 10\""
   ]
  },
  {
   "cell_type": "markdown",
   "id": "cd674cad-9efc-402c-a013-0ff0e0193893",
   "metadata": {},
   "source": [
    "## 14. yield (in Generators):\n",
    "Purpose: Used to return a generator. Unlike return, yield returns a value and pauses the function, allowing it to resume later.\n",
    "\n",
    "Usage:"
   ]
  },
  {
   "cell_type": "code",
   "execution_count": 59,
   "id": "8fabcef0-1205-465a-aa6c-10d715b620ed",
   "metadata": {},
   "outputs": [
    {
     "name": "stdout",
     "output_type": "stream",
     "text": [
      "1\n",
      "2\n",
      "3\n"
     ]
    }
   ],
   "source": [
    "def my_generator():\n",
    "    yield 1\n",
    "    yield 2\n",
    "    yield 3\n",
    "\n",
    "for value in my_generator():\n",
    "    print(value)"
   ]
  },
  {
   "cell_type": "markdown",
   "id": "1d6c492b-f1ff-435e-804f-c15a6fe57eff",
   "metadata": {},
   "source": [
    "## 15. lambda (Anonymous Functions):\n",
    "Purpose: Used to create small, anonymous functions without a name. Often used with higher-order functions like map() or filter().\n",
    "\n",
    "Usage:"
   ]
  },
  {
   "cell_type": "code",
   "execution_count": 62,
   "id": "5df863d1-bd18-4507-82bd-1f3eafb3d1d7",
   "metadata": {},
   "outputs": [
    {
     "name": "stdout",
     "output_type": "stream",
     "text": [
      "10\n"
     ]
    }
   ],
   "source": [
    "double = lambda x: x * 2\n",
    "print(double(5)) "
   ]
  },
  {
   "cell_type": "markdown",
   "id": "bd41d5c0-64d4-4663-9015-65e107ee91a6",
   "metadata": {},
   "source": [
    "## 16. nonlocal:\n",
    "Purpose: Declares that a variable inside a nested function refers to a variable in the enclosing scope (but not global).\n",
    "\n",
    "Usage:"
   ]
  },
  {
   "cell_type": "code",
   "execution_count": 63,
   "id": "d3fbb314-4f52-4edf-9a20-77c86c9d6c30",
   "metadata": {},
   "outputs": [
    {
     "name": "stdout",
     "output_type": "stream",
     "text": [
      "inner\n"
     ]
    }
   ],
   "source": [
    "def outer_function():\n",
    "    x = \"outer\"\n",
    "\n",
    "    def inner_function():\n",
    "        nonlocal x\n",
    "        x = \"inner\"\n",
    "\n",
    "    inner_function()\n",
    "    print(x)\n",
    "\n",
    "outer_function() "
   ]
  },
  {
   "cell_type": "markdown",
   "id": "6449f481-e79e-466d-a3a4-3513bd0170f5",
   "metadata": {},
   "source": [
    "## 17. global:\n",
    "Purpose: Declares that a variable inside a function refers to the global variable. Without this declaration, a local variable with the same name would be created.\n",
    "Usage:"
   ]
  },
  {
   "cell_type": "code",
   "execution_count": 64,
   "id": "b13fb67a-d4c2-4d3d-ad43-f1d04632ce7a",
   "metadata": {},
   "outputs": [
    {
     "name": "stdout",
     "output_type": "stream",
     "text": [
      "20\n"
     ]
    }
   ],
   "source": [
    "x = 10\n",
    "\n",
    "def change_global():\n",
    "    global x\n",
    "    x = 20\n",
    "\n",
    "change_global()\n",
    "print(x) "
   ]
  },
  {
   "cell_type": "markdown",
   "id": "c788444c-130f-4d73-b153-97fd7b791f8e",
   "metadata": {},
   "source": [
    "## In Summary:\n",
    "\n",
    "Control Flow Statements are essential for managing the execution order of a program.\n",
    "Python provides conditionals, loops, exception handling, context management, and function controls to cover various needs in program flow."
   ]
  },
  {
   "cell_type": "code",
   "execution_count": null,
   "id": "81dac9be-4f14-4720-8e2f-94bb65d252c8",
   "metadata": {},
   "outputs": [],
   "source": []
  }
 ],
 "metadata": {
  "kernelspec": {
   "display_name": "Python 3 (ipykernel)",
   "language": "python",
   "name": "python3"
  },
  "language_info": {
   "codemirror_mode": {
    "name": "ipython",
    "version": 3
   },
   "file_extension": ".py",
   "mimetype": "text/x-python",
   "name": "python",
   "nbconvert_exporter": "python",
   "pygments_lexer": "ipython3",
   "version": "3.11.5"
  }
 },
 "nbformat": 4,
 "nbformat_minor": 5
}
